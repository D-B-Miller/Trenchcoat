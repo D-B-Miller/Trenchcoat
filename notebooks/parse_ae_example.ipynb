{
 "cells": [
  {
   "cell_type": "markdown",
   "metadata": {},
   "source": [
    "# Parse AE Data Files\n",
    "\n",
    "This notebook is to demonstrate how to use some of the functions in the parse_ae module.\n",
    "\n",
    "**NOTE: TDMS files tend to be fairly bulky so applying analyses that generate intermiediate arrays like for STFT will require a lot of memory. It is recommended to run these scripts on something like a HPC or similar**"
   ]
  },
  {
   "cell_type": "code",
   "execution_count": null,
   "metadata": {},
   "outputs": [],
   "source": [
    "from trenchcoat import parse_ae"
   ]
  },
  {
   "cell_type": "markdown",
   "metadata": {},
   "source": [
    "## Reading Corrupt TDMS files\n",
    "\n",
    "One issue that was found with some of the recordings was the TDMS header data was corrupt and it prevented the data from being loaded. In our case it was specifically the header data section about the length of each channel in the TDMS file. It was regarded as corrupt because it reads the starting tag but not the ending tag defining a valid metadata section.\n",
    "\n",
    "A modified version of [nptdms' TdmsReader](https://github.com/adamreeve/npTDMS/blob/master/nptdms/reader.py) and [TdmsFile](https://github.com/adamreeve/npTDMS/blob/master/nptdms/tdms.py#L23) werer made that in the event it comes across a bad section, it keeps reading forward until it finds the valid tag and updates the metadata appropriately. It uses the exact same call signature, just does some extra stuff when reading the metadata."
   ]
  },
  {
   "cell_type": "code",
   "execution_count": null,
   "metadata": {},
   "outputs": [],
   "source": [
    "# loads the file and handles corrupt header sections\n",
    "tdms_data = parse_ae.TdmsFileExt(path, keep_open=True)\n",
    "# now actually loads the file and makes a pandas dataframe\n",
    "df = tdms_data.as_dataframe(time_index=True, absolute_time=False)"
   ]
  },
  {
   "cell_type": "code",
   "execution_count": null,
   "metadata": {},
   "outputs": [],
   "source": [
    "    import matplotlib.colors as colors\n",
    "    from scipy.signal import periodogram\n",
    "    plt.rcParams['agg.path.chunksize'] = 10000\n",
    "    #plotStripes(\"ae/sheff_lsbu_stripe_coating_3_pulsing.tdms\")\n",
    "    #drawEdgeAroundStripe(\"ae/sheff_lsbu_stripe_coating_3_pulsing.tdms\",stripe_ref=0)\n",
    "\n",
    "    ## filterStripes\n",
    "##    filterStripes(\"ae/sheff_lsbu_stripe_coating_1.tdms\",300e3,'highpass')\n",
    "##    filterStripes(\"ae/sheff_lsbu_stripe_coating_2.tdms\",300e3,'highpass')\n",
    "##    filterStripes(\"ae/sheff_lsbu_stripe_coating_3_pulsing.tdms\",300e3,'highpass')\n",
    "##    \n",
    "##    stackFilterStripes(\"ae/sheff_lsbu_stripe_coating_1.tdms\",300e3,'highpass')\n",
    "##    stackFilterStripes(\"ae/sheff_lsbu_stripe_coating_2.tdms\",300e3,'highpass')\n",
    "##    stackFilterStripes(\"ae/sheff_lsbu_stripe_coating_3_pulsing.tdms\",300e3,'highpass')\n",
    "\n",
    "    ## periodogramStripes\n",
    "##    welchStripesOverlap(\"ae/sheff_lsbu_stripe_coating_1.tdms\",freq_clip=[0,50e3],use_fr=True)\n",
    "##    welchStripesOverlap(\"ae/sheff_lsbu_stripe_coating_2.tdms\",freq_clip=[0,50e3],use_fr=True)\n",
    "##    welchStripesOverlap(\"ae/sheff_lsbu_stripe_coating_3_pulsing.tdms\",freq_clip=[0,50e3],use_fr=False)\n",
    "\n",
    "##    welchStripesOverlap(\"ae/sheff_lsbu_stripe_coating_1.tdms\")\n",
    "##    welchStripesOverlap(\"ae/sheff_lsbu_stripe_coating_2.tdms\")\n",
    "##    welchStripesOverlap(\"ae/sheff_lsbu_stripe_coating_3_pulsing.tdms\")\n",
    "##    filterStripesProportion(\"ae/sheff_lsbu_stripe_coating_2.tdms\")\n",
    "\n",
    "##    filterStripes(\"ae/sheff_lsbu_stripe_coating_1.tdms\",50e3,mode=\"lowpass\")\n",
    "##    filterStripes(\"ae/sheff_lsbu_stripe_coating_2.tdms\",50e3,mode=\"lowpass\")\n",
    "##    filterStripes(\"ae/sheff_lsbu_stripe_coating_3_pulsing.tdms\",50e3,mode=\"lowpass\")\n",
    "\n",
    "    ## stripeSpectrogram\n",
    "    stripeSpectrogram(\"ae/sheff_lsbu_stripe_coating_1.tdms\")\n",
    "    stripeSpectrogram(\"ae/sheff_lsbu_stripe_coating_2.tdms\")\n",
    "    stripeSpectrogram(\"ae/sheff_lsbu_stripe_coating_3_pulsing.tdms\")\n",
    "\n",
    "##    plotStripesLimits(\"ae/sheff_lsbu_stripe_coating_1.tdms\",cutoff_freq=[30e3,300e3],mode=[\"lowpass\",\"highpass\"],plot_mode=\"both\")\n",
    "##    plotStripesLimits(\"ae/sheff_lsbu_stripe_coating_2.tdms\",cutoff_freq=[30e3,300e3],mode=[\"lowpass\",\"highpass\"],plot_mode=\"both\")\n",
    "##    plotStripesLimits(\"ae/sheff_lsbu_stripe_coating_3_pulsing.tdms\",cutoff_freq=[30e3,300e3],mode=[\"lowpass\",\"highpass\"],plot_mode=\"both\")\n",
    "##\n",
    "##    f = calcStripeAreas(\"ae/sheff_lsbu_stripe_coating_1.tdms\")\n",
    "##    f = calcStripeAreas(\"ae/sheff_lsbu_stripe_coating_2.tdms\")\n",
    "##    f = calcStripeAreas(\"ae/sheff_lsbu_stripe_coating_3_pulsing.tdms\")\n",
    "##    stackFilterEdgesBP3D(\"ae/sheff_lsbu_stripe_coating_1.tdms\",[[f0,f1] for f0,f1 in zip(np.arange(0.1,1e6/2,50e3),np.arange(0.1,1e6/2,50e3)[1:])])\n",
    "    #f.savefig(\"ae/sheff_lsbu_stripe_coating_2-signal-limits.png\")\n",
    "    #plt.close(f)\n",
    "##    for stripe in STRIPE_PERIOD['sheff_lsbu_stripe_coating_1'].keys():\n",
    "##        f = drawEdgeAroundStripe(\"ae/sheff_lsbu_stripe_coating_1.tdms\",stripe_ref=stripe,mode=\"overlay\")\n",
    "##        f.savefig(f\"ae/sheff_lsbu_stripe_coating_1-edge-trace-{stripe}-overlay.png\")\n",
    "##        plt.close(f)\n",
    "    \n",
    "##    f0,f1 = replotAE(\"ae/sheff_lsbu_stripe_coating_2.tdms\",clip=False,ds=1)\n",
    "##    f0.savefig(\"sheff_lsbu_stripe_coating_2-Input 0-time.png\")\n",
    "##    f1.savefig(\"sheff_lsbu_stripe_coating_2-Input 1-time.png\")\n",
    "##    plt.close('all')"
   ]
  }
 ],
 "metadata": {
  "language_info": {
   "name": "python"
  }
 },
 "nbformat": 4,
 "nbformat_minor": 2
}
